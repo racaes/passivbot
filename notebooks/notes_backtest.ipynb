{
 "cells": [
  {
   "cell_type": "code",
   "execution_count": null,
   "id": "6a925c67-ca70-4352-a481-ab08a57122f9",
   "metadata": {},
   "outputs": [],
   "source": [
    "%load_ext autoreload\n",
    "%autoreload 2\n",
    "%run notebook_setup.py"
   ]
  },
  {
   "cell_type": "code",
   "execution_count": null,
   "id": "c351e684-c495-465a-bfde-7e03888aff15",
   "metadata": {},
   "outputs": [],
   "source": [
    "import sys\n",
    "import os\n",
    "from backtest import *"
   ]
  },
  {
   "cell_type": "code",
   "execution_count": null,
   "id": "97f846a3-874c-48f4-93d8-829edc0b4bce",
   "metadata": {
    "scrolled": true
   },
   "outputs": [],
   "source": [
    "config = load_config('configs/template.json')\n",
    "{k: config[k] for k in ['backtest', 'bot', 'live']}"
   ]
  },
  {
   "cell_type": "code",
   "execution_count": null,
   "id": "60155aa0-a1d3-4763-b314-5e015643b527",
   "metadata": {},
   "outputs": [],
   "source": [
    "config['backtest']['start_date'] = '2024-01-01'\n",
    "#config['backtest']['end_date'] = '2025-01-25'\n",
    "config['backtest']['exchanges'] = ['binance', 'bybit']\n",
    "exchange = 'combined' if config['backtest']['combine_ohlcvs'] else config['backtest']['exchanges'][0]"
   ]
  },
  {
   "cell_type": "code",
   "execution_count": null,
   "id": "4b7b1beb-b661-4871-9750-687d8eeafd3f",
   "metadata": {},
   "outputs": [],
   "source": [
    "coins, hlcvs, mss, results_path, cache_dir = await prepare_hlcvs_mss(config, exchange)\n",
    "config['backtest']['coins'] = {exchange: coins}"
   ]
  },
  {
   "cell_type": "code",
   "execution_count": null,
   "id": "2f473002-2ba5-41e3-9f06-ff56aaea2318",
   "metadata": {},
   "outputs": [],
   "source": [
    "#config['bot']['long']['n_positions'] = 3\n",
    "#config['bot']['long']['filter_rolling_window'] = 10\n",
    "#config['bot']['long']['filter_relative_volume_clip_pct'] = 0.5\n",
    "#config['bot']['short']['n_positions'] = 0.0"
   ]
  },
  {
   "cell_type": "code",
   "execution_count": null,
   "id": "ef8d0f05-37ab-4a56-ab17-07a3cd0d70b7",
   "metadata": {},
   "outputs": [],
   "source": [
    "fills, equities, analysis = run_backtest(hlcvs, mss, config, exchange)"
   ]
  },
  {
   "cell_type": "code",
   "execution_count": null,
   "id": "a8d185d1-1ef2-4b9f-973f-c6c13831ef9e",
   "metadata": {},
   "outputs": [],
   "source": [
    "analysis = expand_analysis(analysis, fills, config)"
   ]
  },
  {
   "cell_type": "code",
   "execution_count": null,
   "id": "855f5f2d-df4b-4c09-9e18-06085981ae0f",
   "metadata": {},
   "outputs": [],
   "source": []
  },
  {
   "cell_type": "code",
   "execution_count": null,
   "id": "b0a86c90-e834-4016-abfa-8158e2d227cb",
   "metadata": {},
   "outputs": [],
   "source": [
    "sts = utc_ms()\n",
    "fdf = process_forager_fills(fills)\n",
    "print(f'elapsed {utc_ms() - sts}')\n",
    "sts = utc_ms()\n",
    "equities = pd.Series(equities)\n",
    "analysis_py, balance_and_equity = analyze_fills_forager(config['backtest']['coins'], hlcvs, fdf, equities)\n",
    "for k in analysis_py:\n",
    "    if k not in analysis:\n",
    "        analysis[k] = analysis_py[k]\n",
    "print(f'elapsed {utc_ms() - sts}')\n",
    "pprint.pprint(analysis)\n",
    "balance_and_equity.plot()"
   ]
  },
  {
   "cell_type": "code",
   "execution_count": null,
   "id": "7aa52402-c254-4ffa-8393-cef7f9428b1c",
   "metadata": {},
   "outputs": [],
   "source": [
    "coins_sorted_by_volume = fdf.groupby('coin').fee_paid.sum().sort_values().index.to_list()\n",
    "for i, coin in enumerate(coins_sorted_by_volume[:5]):\n",
    "    print(f\"Plotting fills for {coin}\")\n",
    "    hlcvs_df = pd.DataFrame(hlcvs[:, coins.index(coin), :], columns=[\"high\", \"low\", \"close\", \"volume\"])\n",
    "    fdfc = fdf[fdf.coin == coin]\n",
    "    plt.clf()\n",
    "    plot_fills_forager(fdfc, hlcvs_df)\n",
    "    plt.title(f\"Fills {coin}\")\n",
    "    plt.xlabel = \"time\"\n",
    "    plt.ylabel = \"price\"\n",
    "    plt.show()\n"
   ]
  },
  {
   "cell_type": "code",
   "execution_count": null,
   "id": "93a8c7de-b1a3-4cda-a4ed-4f1a43bf5578",
   "metadata": {},
   "outputs": [],
   "source": [
    "# performers worst to best\n",
    "for x in fdf.groupby('coin').pnl.sum().sort_values().to_dict().items():\n",
    "    print(x)"
   ]
  },
  {
   "cell_type": "code",
   "execution_count": null,
   "id": "ad2bb976-de7a-4e4f-a467-bb401c25ae65",
   "metadata": {},
   "outputs": [],
   "source": []
  }
 ],
 "metadata": {
  "kernelspec": {
   "display_name": "Python (venv)",
   "language": "python",
   "name": "venv"
  },
  "language_info": {
   "codemirror_mode": {
    "name": "ipython",
    "version": 3
   },
   "file_extension": ".py",
   "mimetype": "text/x-python",
   "name": "python",
   "nbconvert_exporter": "python",
   "pygments_lexer": "ipython3",
   "version": "3.9.18"
  }
 },
 "nbformat": 4,
 "nbformat_minor": 5
}
