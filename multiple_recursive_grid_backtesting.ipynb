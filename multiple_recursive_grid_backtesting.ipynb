{
 "cells": [
  {
   "cell_type": "code",
   "execution_count": 5,
   "id": "initial_id",
   "metadata": {
    "collapsed": true,
    "ExecuteTime": {
     "end_time": "2024-02-15T01:13:37.861092454Z",
     "start_time": "2024-02-15T01:13:34.857451539Z"
    }
   },
   "outputs": [
    {
     "name": "stdout",
     "output_type": "stream",
     "text": [
      "The autoreload extension is already loaded. To reload it, use:\n",
      "  %reload_ext autoreload\n"
     ]
    }
   ],
   "source": [
    "%load_ext autoreload\n",
    "%autoreload 2"
   ]
  },
  {
   "cell_type": "code",
   "outputs": [],
   "source": [
    "\n",
    "import json\n",
    "import os\n",
    "from copy import deepcopy\n",
    "from time import time\n",
    "\n",
    "import numpy as np\n",
    "import pandas as pd\n",
    "\n",
    "from backtest import backtest\n",
    "from downloader import Downloader, load_hlc_cache\n",
    "from plotting import make_table\n",
    "from procedures import (\n",
    "    prepare_backtest_config,\n",
    ")\n",
    "from pure_funcs import (\n",
    "    analyze_fills,\n",
    ")"
   ],
   "metadata": {
    "collapsed": false,
    "ExecuteTime": {
     "end_time": "2024-02-15T01:13:38.425569429Z",
     "start_time": "2024-02-15T01:13:37.736423136Z"
    }
   },
   "id": "57156491a1cd28df",
   "execution_count": 6
  },
  {
   "cell_type": "code",
   "outputs": [],
   "source": [
    "class Args:\n",
    "    def __init__(self,\n",
    "                 backtest_config_path=\"configs/backtest/myconfig_v03.hjson\",\n",
    "                 exchange=\"bitget\",\n",
    "                 symbols=\"SEIUSDT\",\n",
    "                 market_type=\"futures\",\n",
    "                 user=\"bitget_01\",\n",
    "                 start_date=\"2021-01-13\",\n",
    "                 end_date=\"2024-01-29\",\n",
    "                 tarting_balance=1000.0,\n",
    "                 starting_configs=\"\",\n",
    "                 base_dir=\"backtests\",\n",
    "                 ohlcv=\"y\"  # set to \"n\" to use 1s candles\n",
    "                 ):\n",
    "        self.backtest_config_path = backtest_config_path\n",
    "        self.exchange = exchange\n",
    "        self.symbols = symbols\n",
    "        self.market_type = market_type\n",
    "        self.user = user\n",
    "        self.start_date = start_date\n",
    "        self.end_date = end_date\n",
    "        self.starting_balance = tarting_balance\n",
    "        self.starting_configs = starting_configs\n",
    "        self.base_dir = base_dir\n",
    "        self.ohlcv = ohlcv"
   ],
   "metadata": {
    "collapsed": false,
    "ExecuteTime": {
     "end_time": "2024-02-15T01:13:38.721164956Z",
     "start_time": "2024-02-15T01:13:38.224656542Z"
    }
   },
   "id": "e6bee5846b72d6c",
   "execution_count": 7
  },
  {
   "cell_type": "code",
   "outputs": [
    {
     "name": "stdout",
     "output_type": "stream",
     "text": [
      "fetching market_specific_settings for 1000FLOKIUSDT...\n"
     ]
    },
    {
     "name": "stderr",
     "output_type": "stream",
     "text": [
      "Traceback (most recent call last):\n",
      "  File \"/home/tdb/git/passivbot/procedures.py\", line 206, in add_market_specific_settings\n",
      "    market_specific_settings = fetch_market_specific_settings(config)\n",
      "  File \"/home/tdb/git/passivbot/procedures.py\", line 758, in fetch_market_specific_settings\n",
      "    raise Exception(f\"unknown symbol {symbol}\")\n",
      "Exception: unknown symbol 1000FLOKIUSDT\n"
     ]
    },
    {
     "name": "stdout",
     "output_type": "stream",
     "text": [
      "\n",
      "failed to fetch market_specific_settings for symbol 1000FLOKIUSDT unknown symbol 1000FLOKIUSDT \n"
     ]
    },
    {
     "ename": "Exception",
     "evalue": "failed to load cached market_specific_settings for symbol 1000FLOKIUSDT",
     "output_type": "error",
     "traceback": [
      "\u001B[0;31m---------------------------------------------------------------------------\u001B[0m",
      "\u001B[0;31mException\u001B[0m                                 Traceback (most recent call last)",
      "File \u001B[0;32m/home/tdb/git/passivbot/procedures.py:206\u001B[0m, in \u001B[0;36madd_market_specific_settings\u001B[0;34m(config)\u001B[0m\n\u001B[1;32m    205\u001B[0m \u001B[38;5;28mprint\u001B[39m(\u001B[38;5;124mf\u001B[39m\u001B[38;5;124m\"\u001B[39m\u001B[38;5;124mfetching market_specific_settings for \u001B[39m\u001B[38;5;132;01m{\u001B[39;00msymbol\u001B[38;5;132;01m}\u001B[39;00m\u001B[38;5;124m...\u001B[39m\u001B[38;5;124m\"\u001B[39m)\n\u001B[0;32m--> 206\u001B[0m market_specific_settings \u001B[38;5;241m=\u001B[39m \u001B[43mfetch_market_specific_settings\u001B[49m\u001B[43m(\u001B[49m\u001B[43mconfig\u001B[49m\u001B[43m)\u001B[49m\n\u001B[1;32m    207\u001B[0m json\u001B[38;5;241m.\u001B[39mdump(market_specific_settings, \u001B[38;5;28mopen\u001B[39m(mss, \u001B[38;5;124m\"\u001B[39m\u001B[38;5;124mw\u001B[39m\u001B[38;5;124m\"\u001B[39m), indent\u001B[38;5;241m=\u001B[39m\u001B[38;5;241m4\u001B[39m)\n",
      "File \u001B[0;32m/home/tdb/git/passivbot/procedures.py:758\u001B[0m, in \u001B[0;36mfetch_market_specific_settings\u001B[0;34m(config)\u001B[0m\n\u001B[1;32m    757\u001B[0m \u001B[38;5;28;01melse\u001B[39;00m:\n\u001B[0;32m--> 758\u001B[0m     \u001B[38;5;28;01mraise\u001B[39;00m \u001B[38;5;167;01mException\u001B[39;00m(\u001B[38;5;124mf\u001B[39m\u001B[38;5;124m\"\u001B[39m\u001B[38;5;124munknown symbol \u001B[39m\u001B[38;5;132;01m{\u001B[39;00msymbol\u001B[38;5;132;01m}\u001B[39;00m\u001B[38;5;124m\"\u001B[39m)\n\u001B[1;32m    759\u001B[0m settings_from_exchange[\u001B[38;5;124m\"\u001B[39m\u001B[38;5;124mhedge_mode\u001B[39m\u001B[38;5;124m\"\u001B[39m] \u001B[38;5;241m=\u001B[39m \u001B[38;5;28;01mTrue\u001B[39;00m\n",
      "\u001B[0;31mException\u001B[0m: unknown symbol 1000FLOKIUSDT",
      "\nDuring handling of the above exception, another exception occurred:\n",
      "\u001B[0;31mException\u001B[0m                                 Traceback (most recent call last)",
      "File \u001B[0;32m/home/tdb/git/passivbot/procedures.py:216\u001B[0m, in \u001B[0;36madd_market_specific_settings\u001B[0;34m(config)\u001B[0m\n\u001B[1;32m    215\u001B[0m     \u001B[38;5;28;01melse\u001B[39;00m:\n\u001B[0;32m--> 216\u001B[0m         \u001B[38;5;28;01mraise\u001B[39;00m \u001B[38;5;167;01mException\u001B[39;00m(\u001B[38;5;124mf\u001B[39m\u001B[38;5;124m\"\u001B[39m\u001B[38;5;124mno cached market_specific_settings for symbol \u001B[39m\u001B[38;5;132;01m{\u001B[39;00msymbol\u001B[38;5;132;01m}\u001B[39;00m\u001B[38;5;124m\"\u001B[39m)\n\u001B[1;32m    217\u001B[0m \u001B[38;5;28;01mexcept\u001B[39;00m:\n",
      "\u001B[0;31mException\u001B[0m: no cached market_specific_settings for symbol 1000FLOKIUSDT",
      "\nDuring handling of the above exception, another exception occurred:\n",
      "\u001B[0;31mException\u001B[0m                                 Traceback (most recent call last)",
      "Cell \u001B[0;32mIn[8], line 11\u001B[0m\n\u001B[1;32m      9\u001B[0m \u001B[38;5;28;01mfor\u001B[39;00m pair \u001B[38;5;129;01min\u001B[39;00m pairs:\n\u001B[1;32m     10\u001B[0m     pair_name \u001B[38;5;241m=\u001B[39m pair\u001B[38;5;241m.\u001B[39msplit(\u001B[38;5;124m\"\u001B[39m\u001B[38;5;124m.\u001B[39m\u001B[38;5;124m\"\u001B[39m)[\u001B[38;5;241m0\u001B[39m]\n\u001B[0;32m---> 11\u001B[0m     config \u001B[38;5;241m=\u001B[39m prepare_backtest_config(\n\u001B[1;32m     12\u001B[0m         Args(\n\u001B[1;32m     13\u001B[0m             symbols\u001B[38;5;241m=\u001B[39mpair_name,\n\u001B[1;32m     14\u001B[0m             start_date\u001B[38;5;241m=\u001B[39mstart_date,\n\u001B[1;32m     15\u001B[0m             end_date\u001B[38;5;241m=\u001B[39mend_date\n\u001B[1;32m     16\u001B[0m         )\n\u001B[1;32m     17\u001B[0m     )\n\u001B[1;32m     19\u001B[0m     config[\u001B[38;5;124m\"\u001B[39m\u001B[38;5;124madg_n_subdivisions\u001B[39m\u001B[38;5;124m\"\u001B[39m] \u001B[38;5;241m=\u001B[39m \u001B[38;5;241m20\u001B[39m  \u001B[38;5;66;03m# see configs/backtest/default.hjson for details\u001B[39;00m\n\u001B[1;32m     20\u001B[0m     config[\u001B[38;5;124m\"\u001B[39m\u001B[38;5;124minverse\u001B[39m\u001B[38;5;124m\"\u001B[39m] \u001B[38;5;241m=\u001B[39m \u001B[38;5;28;01mFalse\u001B[39;00m\n",
      "File \u001B[0;32m/home/tdb/git/passivbot/procedures.py:131\u001B[0m, in \u001B[0;36mprepare_backtest_config\u001B[0;34m(args)\u001B[0m\n\u001B[1;32m    129\u001B[0m     config[\u001B[38;5;124m\"\u001B[39m\u001B[38;5;124mcaches_dirpath\u001B[39m\u001B[38;5;124m\"\u001B[39m] \u001B[38;5;241m=\u001B[39m make_get_filepath(os\u001B[38;5;241m.\u001B[39mpath\u001B[38;5;241m.\u001B[39mjoin(base_dirpath, \u001B[38;5;124m\"\u001B[39m\u001B[38;5;124mcaches\u001B[39m\u001B[38;5;124m\"\u001B[39m, \u001B[38;5;124m\"\u001B[39m\u001B[38;5;124m\"\u001B[39m))\n\u001B[1;32m    130\u001B[0m     config[\u001B[38;5;124m\"\u001B[39m\u001B[38;5;124mplots_dirpath\u001B[39m\u001B[38;5;124m\"\u001B[39m] \u001B[38;5;241m=\u001B[39m make_get_filepath(os\u001B[38;5;241m.\u001B[39mpath\u001B[38;5;241m.\u001B[39mjoin(base_dirpath, \u001B[38;5;124m\"\u001B[39m\u001B[38;5;124mplots\u001B[39m\u001B[38;5;124m\"\u001B[39m, \u001B[38;5;124m\"\u001B[39m\u001B[38;5;124m\"\u001B[39m))\n\u001B[0;32m--> 131\u001B[0m     \u001B[43madd_market_specific_settings\u001B[49m\u001B[43m(\u001B[49m\u001B[43mconfig\u001B[49m\u001B[43m)\u001B[49m\n\u001B[1;32m    132\u001B[0m \u001B[38;5;28;01mreturn\u001B[39;00m config\n",
      "File \u001B[0;32m/home/tdb/git/passivbot/procedures.py:218\u001B[0m, in \u001B[0;36madd_market_specific_settings\u001B[0;34m(config)\u001B[0m\n\u001B[1;32m    216\u001B[0m             \u001B[38;5;28;01mraise\u001B[39;00m \u001B[38;5;167;01mException\u001B[39;00m(\u001B[38;5;124mf\u001B[39m\u001B[38;5;124m\"\u001B[39m\u001B[38;5;124mno cached market_specific_settings for symbol \u001B[39m\u001B[38;5;132;01m{\u001B[39;00msymbol\u001B[38;5;132;01m}\u001B[39;00m\u001B[38;5;124m\"\u001B[39m)\n\u001B[1;32m    217\u001B[0m     \u001B[38;5;28;01mexcept\u001B[39;00m:\n\u001B[0;32m--> 218\u001B[0m         \u001B[38;5;28;01mraise\u001B[39;00m \u001B[38;5;167;01mException\u001B[39;00m(\u001B[38;5;124mf\u001B[39m\u001B[38;5;124m\"\u001B[39m\u001B[38;5;124mfailed to load cached market_specific_settings for symbol \u001B[39m\u001B[38;5;132;01m{\u001B[39;00msymbol\u001B[38;5;132;01m}\u001B[39;00m\u001B[38;5;124m\"\u001B[39m)\n\u001B[1;32m    219\u001B[0m config\u001B[38;5;241m.\u001B[39mupdate(market_specific_settings)\n",
      "\u001B[0;31mException\u001B[0m: failed to load cached market_specific_settings for symbol 1000FLOKIUSDT"
     ]
    }
   ],
   "source": [
    "configs_path = \"configs/live/au_20240213_multi_rec_grid\"\n",
    "\n",
    "pairs = os.listdir(configs_path)\n",
    "start_date = \"2021-01-13\"\n",
    "end_date = \" 2024-01-29\"\n",
    "\n",
    "counter_i = 0\n",
    "results = []\n",
    "for pair in pairs:\n",
    "    pair_name = pair.split(\".\")[0]\n",
    "    config = prepare_backtest_config(\n",
    "        Args(\n",
    "            symbols=pair_name,\n",
    "            start_date=start_date,\n",
    "            end_date=end_date\n",
    "        )\n",
    "    )\n",
    "\n",
    "    config[\"adg_n_subdivisions\"] = 20  # see configs/backtest/default.hjson for details\n",
    "    config[\"inverse\"] = False\n",
    "    sts = time()\n",
    "    if config[\"ohlcv\"]:\n",
    "        data = await load_hlc_cache(\n",
    "            config[\"symbol\"],\n",
    "            config[\"inverse\"],\n",
    "            config[\"start_date\"],\n",
    "            config[\"end_date\"],\n",
    "            base_dir=config[\"base_dir\"],\n",
    "            spot=config[\"spot\"],\n",
    "            exchange=config[\"exchange\"],\n",
    "        )\n",
    "    else:\n",
    "        downloader = Downloader(config)\n",
    "        data = await downloader.get_sampled_ticks()\n",
    "    timestamps = data[:, 0]\n",
    "    config[\"n_days\"] = (timestamps[-1] - timestamps[0]) / (1000 * 60 * 60 * 24)\n",
    "    print(f\"millis to load {len(data)} ticks {(time() - sts) * 1000:.0f}ms of {pair_name}\")\n",
    "\n",
    "    # choose a slice on which to test\n",
    "    wsize_days = 3650\n",
    "    ts = int(data[-1][0] - 60 * 60 * 24 * 1000 * wsize_days)\n",
    "    idx = np.argmax(data[:, 0] >= ts)\n",
    "    dataslice = data[idx:]\n",
    "    print(f\"len(dataslice)={len(dataslice)}\")\n",
    "\n",
    "    with open(os.path.join(configs_path, pair), \"r\") as f:\n",
    "        tune_pairs = json.load(f)\n",
    "\n",
    "    for w_exp in [0.5, 1.0, 1.5, 2.0, 2.5, 3.0, 4.0, 5.0, 6.0, 8.0, 10.0, 15.0, 20.0, 30.0]:\n",
    "        \n",
    "        tune_dict = {}\n",
    "        for op_type in [\"long\", \"short\"]:\n",
    "            tune_pairs[op_type][\"wallet_exposure_limit\"] = w_exp\n",
    "            tune_dict.update({(op_type, k): v for k, v in tune_pairs[op_type].items()})\n",
    "            \n",
    "\n",
    "        config_to_test = {**config, **tune_pairs}\n",
    "    \n",
    "        sts = time()\n",
    "        fills_long, fills_short, stats = backtest(config_to_test, dataslice)\n",
    "        elapsed = time() - sts\n",
    "    \n",
    "        longs, shorts, sdf, analysis = analyze_fills(fills_long, fills_short, stats, config_to_test)\n",
    "        table = make_table({**config_to_test, **analysis})\n",
    "        \n",
    "        print(counter_i, pair, w_exp)\n",
    "        print(table)\n",
    "        print(\"\\n\")\n",
    "        \n",
    "        dict_temp = deepcopy(\n",
    "            {\n",
    "                **{\"row\": counter_i, \"pair\": pair_name, \"wallet_exposure\": w_exp},\n",
    "                **analysis,\n",
    "                **tune_dict\n",
    "            }\n",
    "        )\n",
    "        results.append(dict_temp)\n",
    "        counter_i += 1\n",
    "        \n",
    "        if counter_i % 20 == 0:\n",
    "            results_df = pd.DataFrame(results)\n",
    "            results_df.to_csv(\"/home/raul/Escritorio/results_multi_df.csv\")\n",
    "    #     break\n",
    "    # break\n",
    "    \n",
    "results_df = pd.DataFrame(results)\n",
    "results_df.to_csv(\"/home/raul/Escritorio/results_multi_df.csv\")\n"
   ],
   "metadata": {
    "collapsed": false,
    "ExecuteTime": {
     "end_time": "2024-02-15T01:13:44.342017909Z",
     "start_time": "2024-02-15T01:13:38.715293046Z"
    }
   },
   "id": "860decf88a53ed4d",
   "execution_count": 8
  },
  {
   "cell_type": "code",
   "outputs": [],
   "source": [],
   "metadata": {
    "collapsed": false,
    "ExecuteTime": {
     "start_time": "2024-02-15T01:13:44.342342969Z"
    }
   },
   "id": "b7705cc9ffefb6b5",
   "execution_count": null
  }
 ],
 "metadata": {
  "kernelspec": {
   "display_name": "Python 3",
   "language": "python",
   "name": "python3"
  },
  "language_info": {
   "codemirror_mode": {
    "name": "ipython",
    "version": 2
   },
   "file_extension": ".py",
   "mimetype": "text/x-python",
   "name": "python",
   "nbconvert_exporter": "python",
   "pygments_lexer": "ipython2",
   "version": "2.7.6"
  }
 },
 "nbformat": 4,
 "nbformat_minor": 5
}
