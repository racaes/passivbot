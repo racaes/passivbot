{
 "cells": [
  {
   "cell_type": "code",
   "execution_count": 1,
   "metadata": {
    "ExecuteTime": {
     "end_time": "2024-01-09T00:29:06.641023588Z",
     "start_time": "2024-01-09T00:29:06.104975074Z"
    }
   },
   "outputs": [],
   "source": [
    "%load_ext autoreload\n",
    "%autoreload 2"
   ]
  },
  {
   "cell_type": "code",
   "execution_count": 26,
   "metadata": {
    "ExecuteTime": {
     "end_time": "2024-01-09T00:52:58.810574639Z",
     "start_time": "2024-01-09T00:52:58.260586360Z"
    }
   },
   "outputs": [],
   "source": [
    "from procedures import create_binance_bot, create_binance_bot_spot, make_get_filepath, create_bitget_bot, \\\n",
    "    prepare_backtest_config\n",
    "from pure_funcs import get_template_live_config, ts_to_date, get_daily_from_income, get_dummy_settings\n",
    "from njit_funcs import round_dynamic\n",
    "from time import time, sleep\n",
    "import os\n",
    "import pandas as pd\n",
    "import asyncio\n",
    "import numpy as np\n",
    "import matplotlib.pyplot as plt\n",
    "from downloader import Downloader, load_hlc_cache"
   ]
  },
  {
   "cell_type": "code",
   "execution_count": 27,
   "metadata": {
    "ExecuteTime": {
     "end_time": "2024-01-09T00:53:00.119218879Z",
     "start_time": "2024-01-09T00:52:59.668978286Z"
    }
   },
   "outputs": [],
   "source": [
    "plt.rcParams[\"figure.figsize\"] = [21, 13]\n",
    "pd.set_option(\"display.precision\", 10)"
   ]
  },
  {
   "cell_type": "code",
   "outputs": [
    {
     "name": "stdout",
     "output_type": "stream",
     "text": [
      "fetching market_specific_settings for TRBUSDT...\n",
      "TRBUSDT most n days of consecutive identical ohlcvs: 0.000, index last: 0\n",
      "millis to load 4321 ticks 6ms\n"
     ]
    }
   ],
   "source": [
    "class Args:\n",
    "    def __init__(self):\n",
    "        self.backtest_config_path = \"configs/backtest/myconfig_v02.hjson\"\n",
    "        self.exchange = \"bitget\"\n",
    "        self.symbols = \"TRBUSDT\"\n",
    "        self.market_type = \"futures\"\n",
    "        self.user = \"bitget_01\"\n",
    "        self.start_date = \"2023-10-13\"\n",
    "        self.end_date = \"2023-10-16\"\n",
    "        self.starting_balance = 1000.0\n",
    "        self.starting_configs = \"\"\n",
    "        self.base_dir = \"backtests\"\n",
    "        self.ohlcv = \"y\"  # set to \"n\" to use 1s candles\n",
    "\n",
    "\n",
    "config = prepare_backtest_config(Args())\n",
    "\n",
    "config[\"adg_n_subdivisions\"] = 20  # see configs/backtest/default.hjson for details\n",
    "config[\"inverse\"] = False\n",
    "sts = time()\n",
    "if config[\"ohlcv\"]:\n",
    "    data = await load_hlc_cache(\n",
    "        config[\"symbol\"],\n",
    "        config[\"inverse\"],\n",
    "        config[\"start_date\"],\n",
    "        config[\"end_date\"],\n",
    "        base_dir=config[\"base_dir\"],\n",
    "        spot=config[\"spot\"],\n",
    "        exchange=config[\"exchange\"],\n",
    "    )\n",
    "    prices = data[:, 3]\n",
    "    highs = data[:, 1]\n",
    "    lows = data[:, 2]\n",
    "    closes = data[:, 3]\n",
    "else:\n",
    "    downloader = Downloader(config)\n",
    "    data = await downloader.get_sampled_ticks()\n",
    "    prices = data[:, 2]\n",
    "    highs = data[:, 2]\n",
    "    lows = data[:, 2]\n",
    "    closes = data[:, 2]\n",
    "timestamps = data[:, 0]\n",
    "config[\"n_days\"] = (timestamps[-1] - timestamps[0]) / (1000 * 60 * 60 * 24)\n",
    "\n",
    "print(f\"millis to load {len(prices)} ticks {(time() - sts) * 1000:.0f}ms\")"
   ],
   "metadata": {
    "collapsed": false,
    "ExecuteTime": {
     "end_time": "2024-01-09T00:54:17.458249302Z",
     "start_time": "2024-01-09T00:54:15.687399210Z"
    }
   },
   "execution_count": 30
  },
  {
   "cell_type": "code",
   "outputs": [
    {
     "data": {
      "text/plain": "numpy.ndarray"
     },
     "execution_count": 33,
     "metadata": {},
     "output_type": "execute_result"
    }
   ],
   "source": [
    "type(data)"
   ],
   "metadata": {
    "collapsed": false,
    "ExecuteTime": {
     "end_time": "2024-01-09T01:04:27.371120077Z",
     "start_time": "2024-01-09T01:04:26.841730840Z"
    }
   },
   "execution_count": 33
  },
  {
   "cell_type": "code",
   "outputs": [],
   "source": [
    "config = get_template_live_config()\n",
    "config[\"symbol\"] = \"XMRUSDT\"  # dummy symbol\n",
    "config[\"exchange\"] = \"bitget\"\n",
    "config[\"market_type\"] = \"futures\"\n",
    "config[\"user\"] = \"bitget_01\"\n",
    "config[\"ohlcv\"] = True\n",
    "tmp_live_settings = get_dummy_settings(config)"
   ],
   "metadata": {
    "collapsed": false,
    "ExecuteTime": {
     "end_time": "2024-01-09T00:41:54.984874825Z",
     "start_time": "2024-01-09T00:41:54.565475830Z"
    }
   },
   "execution_count": 19
  },
  {
   "cell_type": "code",
   "outputs": [
    {
     "data": {
      "text/plain": "{'config_name': 'neat_template',\n 'logging_level': 0,\n 'long': {'auto_unstuck_delay_minutes': 300.0,\n  'auto_unstuck_ema_dist': 0.02,\n  'auto_unstuck_qty_pct': 0.04,\n  'auto_unstuck_wallet_exposure_threshold': 0.1,\n  'backwards_tp': False,\n  'ema_span_0': 1440,\n  'ema_span_1': 4320,\n  'enabled': True,\n  'eprice_exp_base': 1.618034,\n  'eqty_exp_base': 1.8,\n  'grid_span': 0.16,\n  'initial_eprice_ema_dist': -0.01,\n  'initial_qty_pct': 0.01,\n  'markup_range': 0.0075,\n  'max_n_entry_orders': 10,\n  'min_markup': 0.0045,\n  'n_close_orders': 7,\n  'wallet_exposure_limit': 1.6},\n 'short': {'auto_unstuck_delay_minutes': 300.0,\n  'auto_unstuck_ema_dist': 0.02,\n  'auto_unstuck_qty_pct': 0.04,\n  'auto_unstuck_wallet_exposure_threshold': 0.1,\n  'backwards_tp': False,\n  'ema_span_0': 1440,\n  'ema_span_1': 4320,\n  'enabled': True,\n  'eprice_exp_base': 1.618034,\n  'eqty_exp_base': 1.8,\n  'grid_span': 0.16,\n  'initial_eprice_ema_dist': -0.01,\n  'initial_qty_pct': 0.01,\n  'markup_range': 0.0075,\n  'max_n_entry_orders': 10,\n  'min_markup': 0.0045,\n  'n_close_orders': 7,\n  'wallet_exposure_limit': 1.6},\n 'symbol': 'XMRUSDT',\n 'exchange': 'bitget',\n 'market_type': 'futures',\n 'user': 'bitget_01'}"
     },
     "execution_count": 16,
     "metadata": {},
     "output_type": "execute_result"
    }
   ],
   "source": [
    "config"
   ],
   "metadata": {
    "collapsed": false,
    "ExecuteTime": {
     "end_time": "2024-01-09T00:38:59.434212411Z",
     "start_time": "2024-01-09T00:38:59.091049593Z"
    }
   },
   "execution_count": 16
  },
  {
   "cell_type": "code",
   "outputs": [
    {
     "ename": "KeyError",
     "evalue": "'ohlcv'",
     "output_type": "error",
     "traceback": [
      "\u001B[0;31m---------------------------------------------------------------------------\u001B[0m",
      "\u001B[0;31mKeyError\u001B[0m                                  Traceback (most recent call last)",
      "Cell \u001B[0;32mIn[18], line 1\u001B[0m\n\u001B[0;32m----> 1\u001B[0m \u001B[43mconfig\u001B[49m\u001B[43m[\u001B[49m\u001B[38;5;124;43m\"\u001B[39;49m\u001B[38;5;124;43mohlcv\u001B[39;49m\u001B[38;5;124;43m\"\u001B[39;49m\u001B[43m]\u001B[49m\n",
      "\u001B[0;31mKeyError\u001B[0m: 'ohlcv'"
     ]
    }
   ],
   "source": [
    "config[\"ohlcv\"]"
   ],
   "metadata": {
    "collapsed": false,
    "ExecuteTime": {
     "end_time": "2024-01-09T00:41:43.059465804Z",
     "start_time": "2024-01-09T00:41:42.641641343Z"
    }
   },
   "execution_count": 18
  },
  {
   "cell_type": "code",
   "execution_count": 25,
   "metadata": {
    "ExecuteTime": {
     "end_time": "2024-01-09T00:43:59.280152799Z",
     "start_time": "2024-01-09T00:43:51.918118613Z"
    }
   },
   "outputs": [
    {
     "name": "stdout",
     "output_type": "stream",
     "text": [
      "linear perpetual\n",
      "initiating position, open orders, fills, exchange config, order book, and emas...\n"
     ]
    },
    {
     "name": "stderr",
     "output_type": "stream",
     "text": [
      "ERROR:root:error fetching open orders string indices must be integers\n",
      "Traceback (most recent call last):\n",
      "  File \"/home/tdb/git/passivbot/exchanges/binance.py\", line 304, in fetch_open_orders\n",
      "    return [\n",
      "  File \"/home/tdb/git/passivbot/exchanges/binance.py\", line 306, in <listcomp>\n",
      "    \"order_id\": int(e[\"orderId\"]),\n",
      "TypeError: string indices must be integers\n",
      "ERROR:root:error with update open orders 'bool' object is not iterable\n",
      "Traceback (most recent call last):\n",
      "  File \"/home/tdb/git/passivbot/passivbot.py\", line 360, in update_open_orders\n",
      "    open_orders = [x for x in open_orders if x[\"symbol\"] == self.symbol]\n",
      "TypeError: 'bool' object is not iterable\n",
      "Traceback (most recent call last):\n",
      "  File \"/home/tdb/git/passivbot/exchanges/binance.py\", line 561, in fetch_fills\n",
      "    fills = [\n",
      "  File \"/home/tdb/git/passivbot/exchanges/binance.py\", line 563, in <listcomp>\n",
      "    \"symbol\": x[\"symbol\"],\n",
      "TypeError: string indices must be integers\n"
     ]
    },
    {
     "name": "stdout",
     "output_type": "stream",
     "text": [
      "returned: {'code': -2014, 'msg': 'API-key format invalid.'}\n",
      "error fetching fills string indices must be integers\n"
     ]
    },
    {
     "name": "stderr",
     "output_type": "stream",
     "text": [
      "Traceback (most recent call last):\n",
      "  File \"/home/tdb/git/passivbot/exchanges/binance.py\", line 506, in fetch_latest_fills\n",
      "    fills += [\n",
      "  File \"/home/tdb/git/passivbot/exchanges/binance.py\", line 508, in <listcomp>\n",
      "    \"order_id\": elm[\"orderId\"],\n",
      "TypeError: string indices must be integers\n",
      "ERROR:root:error fetching pos or balance 0\n",
      "Traceback (most recent call last):\n",
      "  File \"/home/tdb/git/passivbot/exchanges/binance.py\", line 337, in fetch_position\n",
      "    assert all(\n",
      "  File \"/home/tdb/git/passivbot/exchanges/binance.py\", line 338, in <genexpr>\n",
      "    key in positions[0] for key in [\"symbol\", \"positionAmt\", \"entryPrice\"]\n",
      "KeyError: 0\n",
      "ERROR:root:error with update position \n"
     ]
    },
    {
     "name": "stdout",
     "output_type": "stream",
     "text": [
      "error fetching latest fills string indices must be integers\n",
      "returned: {'code': -2014, 'msg': 'API-key format invalid.'}\n",
      "2024-01-09T00:43:54  {'code': -2014, 'msg': 'API-key format invalid.'} \n",
      "returned: {'code': -2014, 'msg': 'API-key format invalid.'}\n",
      "returned: {'code': -2014, 'msg': 'API-key format invalid.'}\n"
     ]
    },
    {
     "name": "stderr",
     "output_type": "stream",
     "text": [
      "Traceback (most recent call last):\n",
      "  File \"/home/tdb/git/passivbot/passivbot.py\", line 428, in update_position\n",
      "    assert position is not None\n",
      "AssertionError\n"
     ]
    },
    {
     "name": "stdout",
     "output_type": "stream",
     "text": [
      "2024-01-09T00:43:54  {'code': -2014, 'msg': 'API-key format invalid.'} \n",
      "2024-01-09T00:43:55  {'code': -2014, 'msg': 'API-key format invalid.'} \n",
      "done\n"
     ]
    },
    {
     "name": "stderr",
     "output_type": "stream",
     "text": [
      "ERROR:root:error fetching pos or balance 0\n",
      "Traceback (most recent call last):\n",
      "  File \"/home/tdb/git/passivbot/exchanges/binance.py\", line 337, in fetch_position\n",
      "    assert all(\n",
      "  File \"/home/tdb/git/passivbot/exchanges/binance.py\", line 338, in <genexpr>\n",
      "    key in positions[0] for key in [\"symbol\", \"positionAmt\", \"entryPrice\"]\n",
      "KeyError: 0\n",
      "ERROR:root:error with update position \n"
     ]
    },
    {
     "name": "stdout",
     "output_type": "stream",
     "text": [
      "returned: {'code': -2014, 'msg': 'API-key format invalid.'}\n",
      "returned: {'code': -2014, 'msg': 'API-key format invalid.'}\n"
     ]
    },
    {
     "name": "stderr",
     "output_type": "stream",
     "text": [
      "Traceback (most recent call last):\n",
      "  File \"/home/tdb/git/passivbot/passivbot.py\", line 428, in update_position\n",
      "    assert position is not None\n",
      "AssertionError\n"
     ]
    }
   ],
   "source": [
    "\n",
    "try:\n",
    "    await bot.session.close()\n",
    "except:\n",
    "    pass\n",
    "if config[\"market_type\"] == \"spot\":\n",
    "    bot = await create_binance_bot_spot(config)\n",
    "else:\n",
    "    bot = await create_binance_bot(tmp_live_settings)\n",
    "    \n",
    "    # bot = await create_bitget_bot(tmp_live_settings)\n",
    "    # settings_from_exchange[\"maker_fee\"] = 0.0002\n",
    "    # settings_from_exchange[\"taker_fee\"] = 0.0006\n",
    "    # settings_from_exchange[\"exchange\"] = \"bitget\"\n",
    "    "
   ]
  },
  {
   "cell_type": "code",
   "outputs": [
    {
     "data": {
      "text/plain": "'/api/mix/v1/market/contracts'"
     },
     "execution_count": 24,
     "metadata": {},
     "output_type": "execute_result"
    }
   ],
   "source": [
    "bot.endpoints[\"exchange_info\"]"
   ],
   "metadata": {
    "collapsed": false,
    "ExecuteTime": {
     "end_time": "2024-01-09T00:43:14.620132819Z",
     "start_time": "2024-01-09T00:43:14.246129580Z"
    }
   },
   "execution_count": 24
  },
  {
   "cell_type": "code",
   "outputs": [
    {
     "data": {
      "text/plain": "{'code': '40019',\n 'msg': 'Parameter productType cannot be empty',\n 'requestTime': 1704760960032,\n 'data': None}"
     },
     "execution_count": 32,
     "metadata": {},
     "output_type": "execute_result"
    }
   ],
   "source": [
    "info"
   ],
   "metadata": {
    "collapsed": false,
    "ExecuteTime": {
     "end_time": "2024-01-09T00:59:07.235671574Z",
     "start_time": "2024-01-09T00:59:06.697223600Z"
    }
   },
   "execution_count": 32
  },
  {
   "cell_type": "code",
   "execution_count": 22,
   "metadata": {
    "ExecuteTime": {
     "end_time": "2024-01-09T00:42:40.197005155Z",
     "start_time": "2024-01-09T00:42:39.429158659Z"
    }
   },
   "outputs": [
    {
     "ename": "KeyError",
     "evalue": "'symbols'",
     "output_type": "error",
     "traceback": [
      "\u001B[0;31m---------------------------------------------------------------------------\u001B[0m",
      "\u001B[0;31mKeyError\u001B[0m                                  Traceback (most recent call last)",
      "Cell \u001B[0;32mIn[22], line 3\u001B[0m\n\u001B[1;32m      1\u001B[0m info \u001B[38;5;241m=\u001B[39m \u001B[38;5;28;01mawait\u001B[39;00m bot\u001B[38;5;241m.\u001B[39mpublic_get(bot\u001B[38;5;241m.\u001B[39mendpoints[\u001B[38;5;124m\"\u001B[39m\u001B[38;5;124mexchange_info\u001B[39m\u001B[38;5;124m\"\u001B[39m])\n\u001B[1;32m      2\u001B[0m csvs \u001B[38;5;241m=\u001B[39m {}\n\u001B[0;32m----> 3\u001B[0m syms \u001B[38;5;241m=\u001B[39m [x[\u001B[38;5;124m\"\u001B[39m\u001B[38;5;124msymbol\u001B[39m\u001B[38;5;124m\"\u001B[39m] \u001B[38;5;28;01mfor\u001B[39;00m x \u001B[38;5;129;01min\u001B[39;00m \u001B[43minfo\u001B[49m\u001B[43m[\u001B[49m\u001B[38;5;124;43m\"\u001B[39;49m\u001B[38;5;124;43msymbols\u001B[39;49m\u001B[38;5;124;43m\"\u001B[39;49m\u001B[43m]\u001B[49m \u001B[38;5;28;01mif\u001B[39;00m x[\u001B[38;5;124m\"\u001B[39m\u001B[38;5;124msymbol\u001B[39m\u001B[38;5;124m\"\u001B[39m]\u001B[38;5;241m.\u001B[39mendswith(\u001B[38;5;124m\"\u001B[39m\u001B[38;5;124mUSDT\u001B[39m\u001B[38;5;124m\"\u001B[39m)]\n\u001B[1;32m      4\u001B[0m n \u001B[38;5;241m=\u001B[39m \u001B[38;5;241m7\u001B[39m\n\u001B[1;32m      5\u001B[0m interval \u001B[38;5;241m=\u001B[39m \u001B[38;5;124m\"\u001B[39m\u001B[38;5;124m5m\u001B[39m\u001B[38;5;124m\"\u001B[39m\n",
      "\u001B[0;31mKeyError\u001B[0m: 'symbols'"
     ]
    }
   ],
   "source": [
    "info = await bot.public_get(bot.endpoints[\"exchange_info\"])\n",
    "csvs = {}\n",
    "syms = [x[\"symbol\"] for x in info[\"symbols\"] if x[\"symbol\"].endswith(\"USDT\")]\n",
    "n = 7\n",
    "interval = \"5m\"\n",
    "while True:\n",
    "    if not syms:\n",
    "        break\n",
    "    subset = syms[:n]\n",
    "    syms = syms[n:]\n",
    "    res = await asyncio.gather(*[bot.fetch_ohlcvs(symbol=s, interval=interval) for s in subset])\n",
    "    for s, r in zip(subset, res):\n",
    "        csvs[s] = pd.DataFrame(r)\n",
    "    print(subset, len(syms))"
   ]
  },
  {
   "cell_type": "code",
   "execution_count": null,
   "metadata": {},
   "outputs": [],
   "source": [
    "def correlation(x, y):\n",
    "    x_mean = x.mean()\n",
    "    y_mean = y.mean()\n",
    "    a = x - x_mean\n",
    "    b = y - y_mean\n",
    "    return ((a * b).sum()) / (((a ** 2).sum() * (b ** 2).sum()) ** 0.5)"
   ]
  },
  {
   "cell_type": "code",
   "execution_count": null,
   "metadata": {},
   "outputs": [],
   "source": [
    "n_symbols = 30\n",
    "vols = [(csvs[s].volume * csvs[s].close).sum() for s in csvs]\n",
    "minvol = sorted(vols)[-n_symbols]\n",
    "ss = [s for s in csvs if (csvs[s].volume * csvs[s].close).sum() >= minvol]\n",
    "corrs = []\n",
    "corrs_dict = {}\n",
    "done = set()\n",
    "for s0 in sorted(ss):\n",
    "    for s1 in sorted(ss):\n",
    "        if s0 == s1:\n",
    "            continue\n",
    "        key = tuple(sorted([s0, s1]))\n",
    "        if key in done:\n",
    "            continue\n",
    "        done.add(key)\n",
    "        x = csvs[s0].close\n",
    "        y = csvs[s1].close\n",
    "        corr = correlation(x, y)\n",
    "        print(f\"\\r{s0} {s1} {corr:.4f}      \", end=\" \")\n",
    "        corrs.append((corr,) + key)\n",
    "\n",
    "corrs_dict = {}\n",
    "corrs_dict_abs = {}\n",
    "for e in corrs:\n",
    "    if e[1] not in corrs_dict:\n",
    "        corrs_dict[e[1]] = {e[2]: e[0]}\n",
    "        corrs_dict_abs[e[1]] = {e[2]: abs(e[0])}\n",
    "\n",
    "    else:\n",
    "        corrs_dict[e[1]][e[2]] = e[0]\n",
    "        corrs_dict_abs[e[1]][e[2]] = abs(e[0])\n",
    "\n",
    "    if e[2] not in corrs_dict:\n",
    "        corrs_dict[e[2]] = {e[1]: e[0]}\n",
    "        corrs_dict_abs[e[2]] = {e[1]: abs(e[0])}\n",
    "\n",
    "    else:\n",
    "        corrs_dict[e[2]][e[1]] = e[0]\n",
    "        corrs_dict_abs[e[2]][e[1]] = abs(e[0])"
   ]
  },
  {
   "cell_type": "code",
   "execution_count": null,
   "metadata": {},
   "outputs": [],
   "source": [
    "# sum correlation of each symbol to every other symbol\n",
    "corr_sorted = sorted([(sum(corrs_dict[s].values()), s) for s in corrs_dict])\n",
    "corr_sorted"
   ]
  },
  {
   "cell_type": "code",
   "execution_count": null,
   "metadata": {},
   "outputs": [],
   "source": [
    "# mean of all symbol\n",
    "mean_prices = pd.concat([e.close / e.close.iloc[0] for e in csvs.values()], axis=1).mean(axis=1)\n",
    "\n",
    "# compare individual symbol to mean\n",
    "symbol = \"SXPUSDT\"\n",
    "# symbol = corr_sorted[0][1]  # least correlated symbol\n",
    "mean_prices.rename(\"mean_prices\").plot()\n",
    "(csvs[symbol].close / csvs[symbol].close.iloc[0]).rename(symbol).plot()\n",
    "plt.legend()"
   ]
  },
  {
   "cell_type": "code",
   "execution_count": null,
   "metadata": {},
   "outputs": [],
   "source": [
    "# compare two symbols\n",
    "symbol0 = \"BNBUSDT\"\n",
    "symbol1 = \"LINKUSDT\"\n",
    "(csvs[symbol0].close / csvs[symbol0].close.iloc[0]).rename(symbol0).plot()\n",
    "(csvs[symbol1].close / csvs[symbol1].close.iloc[0]).rename(symbol1).plot()\n",
    "plt.legend()"
   ]
  },
  {
   "cell_type": "code",
   "execution_count": null,
   "metadata": {},
   "outputs": [],
   "source": []
  }
 ],
 "metadata": {
  "kernelspec": {
   "display_name": "Python 3 (ipykernel)",
   "language": "python",
   "name": "python3"
  },
  "language_info": {
   "codemirror_mode": {
    "name": "ipython",
    "version": 3
   },
   "file_extension": ".py",
   "mimetype": "text/x-python",
   "name": "python",
   "nbconvert_exporter": "python",
   "pygments_lexer": "ipython3",
   "version": "3.10.4"
  }
 },
 "nbformat": 4,
 "nbformat_minor": 4
}
