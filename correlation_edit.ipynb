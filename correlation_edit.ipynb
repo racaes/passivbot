{
 "cells": [
  {
   "cell_type": "code",
   "execution_count": 1,
   "metadata": {
    "ExecuteTime": {
     "end_time": "2023-10-19T00:17:36.371053700Z",
     "start_time": "2023-10-19T00:17:36.344998Z"
    }
   },
   "outputs": [],
   "source": [
    "%load_ext autoreload\n",
    "%autoreload 2"
   ]
  },
  {
   "cell_type": "code",
   "execution_count": 2,
   "metadata": {
    "ExecuteTime": {
     "end_time": "2023-10-19T00:17:37.280906800Z",
     "start_time": "2023-10-19T00:17:36.372060400Z"
    }
   },
   "outputs": [
    {
     "name": "stdout",
     "output_type": "stream",
     "text": [
      "using numba\n"
     ]
    }
   ],
   "source": [
    "from procedures import create_binance_bot, create_binance_bot_spot, make_get_filepath\n",
    "from pure_funcs import get_template_live_config, ts_to_date, get_daily_from_income\n",
    "from njit_funcs import round_dynamic\n",
    "from time import time, sleep\n",
    "import os\n",
    "import pandas as pd\n",
    "import asyncio\n",
    "import numpy as np\n",
    "import matplotlib.pyplot as plt"
   ]
  },
  {
   "cell_type": "code",
   "execution_count": 3,
   "metadata": {
    "ExecuteTime": {
     "end_time": "2023-10-19T00:17:37.327618600Z",
     "start_time": "2023-10-19T00:17:37.282037900Z"
    }
   },
   "outputs": [],
   "source": [
    "plt.rcParams[\"figure.figsize\"] = [21, 13]\n",
    "pd.set_option(\"display.precision\", 10)"
   ]
  },
  {
   "cell_type": "code",
   "execution_count": 6,
   "metadata": {
    "ExecuteTime": {
     "end_time": "2023-10-19T00:21:13.619242600Z",
     "start_time": "2023-10-19T00:21:08.601358800Z"
    }
   },
   "outputs": [
    {
     "name": "stdout",
     "output_type": "stream",
     "text": [
      "linear perpetual\n",
      "initiating position, open orders, fills, exchange config, order book, and emas...\n"
     ]
    },
    {
     "name": "stderr",
     "output_type": "stream",
     "text": [
      "ERROR:root:error fetching open orders string indices must be integers\n",
      "Traceback (most recent call last):\n",
      "  File \"C:\\Users\\Nitropc\\Projects\\passivbot\\exchanges\\binance.py\", line 304, in fetch_open_orders\n",
      "    return [\n",
      "  File \"C:\\Users\\Nitropc\\Projects\\passivbot\\exchanges\\binance.py\", line 306, in <listcomp>\n",
      "    \"order_id\": int(e[\"orderId\"]),\n",
      "TypeError: string indices must be integers\n",
      "ERROR:root:error with update open orders 'bool' object is not iterable\n",
      "Traceback (most recent call last):\n",
      "  File \"C:\\Users\\Nitropc\\Projects\\passivbot\\passivbot.py\", line 360, in update_open_orders\n",
      "    open_orders = [x for x in open_orders if x[\"symbol\"] == self.symbol]\n",
      "TypeError: 'bool' object is not iterable\n"
     ]
    },
    {
     "name": "stdout",
     "output_type": "stream",
     "text": [
      "returned: {'code': -2014, 'msg': 'API-key format invalid.'}\n"
     ]
    },
    {
     "name": "stderr",
     "output_type": "stream",
     "text": [
      "ERROR:root:error fetching pos or balance 0\n",
      "Traceback (most recent call last):\n",
      "  File \"C:\\Users\\Nitropc\\Projects\\passivbot\\exchanges\\binance.py\", line 337, in fetch_position\n",
      "    assert all(\n",
      "  File \"C:\\Users\\Nitropc\\Projects\\passivbot\\exchanges\\binance.py\", line 338, in <genexpr>\n",
      "    key in positions[0] for key in [\"symbol\", \"positionAmt\", \"entryPrice\"]\n",
      "KeyError: 0\n",
      "ERROR:root:error with update position 'NoneType' object is not subscriptable\n"
     ]
    },
    {
     "name": "stdout",
     "output_type": "stream",
     "text": [
      "2023-10-19T00:21:11  {'code': -2014, 'msg': 'API-key format invalid.'} \n",
      "returned: {'code': -2014, 'msg': 'API-key format invalid.'}\n",
      "returned: {'code': -2014, 'msg': 'API-key format invalid.'}\n",
      "error fetching fills string indices must be integers\n",
      "error fetching latest fills string indices must be integers\n",
      "returned: {'code': -2014, 'msg': 'API-key format invalid.'}\n"
     ]
    },
    {
     "name": "stderr",
     "output_type": "stream",
     "text": [
      "Traceback (most recent call last):\n",
      "  File \"C:\\Users\\Nitropc\\Projects\\passivbot\\passivbot.py\", line 428, in update_position\n",
      "    position[\"wallet_balance\"] = self.adjust_wallet_balance(position[\"wallet_balance\"])\n",
      "TypeError: 'NoneType' object is not subscriptable\n",
      "Traceback (most recent call last):\n",
      "  File \"C:\\Users\\Nitropc\\Projects\\passivbot\\exchanges\\binance.py\", line 560, in fetch_fills\n",
      "    fills = [\n",
      "  File \"C:\\Users\\Nitropc\\Projects\\passivbot\\exchanges\\binance.py\", line 562, in <listcomp>\n",
      "    \"symbol\": x[\"symbol\"],\n",
      "TypeError: string indices must be integers\n",
      "Traceback (most recent call last):\n",
      "  File \"C:\\Users\\Nitropc\\Projects\\passivbot\\exchanges\\binance.py\", line 505, in fetch_latest_fills\n",
      "    fills += [\n",
      "  File \"C:\\Users\\Nitropc\\Projects\\passivbot\\exchanges\\binance.py\", line 507, in <listcomp>\n",
      "    \"order_id\": elm[\"orderId\"],\n",
      "TypeError: string indices must be integers\n"
     ]
    },
    {
     "name": "stdout",
     "output_type": "stream",
     "text": [
      "2023-10-19T00:21:11  {'code': -2014, 'msg': 'API-key format invalid.'} \n",
      "2023-10-19T00:21:11  {'code': -2014, 'msg': 'API-key format invalid.'} \n",
      "done\n"
     ]
    },
    {
     "name": "stderr",
     "output_type": "stream",
     "text": [
      "ERROR:root:error fetching pos or balance 0\n",
      "Traceback (most recent call last):\n",
      "  File \"C:\\Users\\Nitropc\\Projects\\passivbot\\exchanges\\binance.py\", line 337, in fetch_position\n",
      "    assert all(\n",
      "  File \"C:\\Users\\Nitropc\\Projects\\passivbot\\exchanges\\binance.py\", line 338, in <genexpr>\n",
      "    key in positions[0] for key in [\"symbol\", \"positionAmt\", \"entryPrice\"]\n",
      "KeyError: 0\n",
      "ERROR:root:error with update position 'NoneType' object is not subscriptable\n"
     ]
    },
    {
     "name": "stdout",
     "output_type": "stream",
     "text": [
      "returned: {'code': -2014, 'msg': 'API-key format invalid.'}\n",
      "returned: {'code': -2014, 'msg': 'API-key format invalid.'}\n"
     ]
    },
    {
     "name": "stderr",
     "output_type": "stream",
     "text": [
      "Traceback (most recent call last):\n",
      "  File \"C:\\Users\\Nitropc\\Projects\\passivbot\\passivbot.py\", line 428, in update_position\n",
      "    position[\"wallet_balance\"] = self.adjust_wallet_balance(position[\"wallet_balance\"])\n",
      "TypeError: 'NoneType' object is not subscriptable\n"
     ]
    }
   ],
   "source": [
    "config = get_template_live_config()\n",
    "config[\"symbol\"] = \"XMRUSDT\"  # dummy symbol\n",
    "config[\"exchange\"] = \"bitget\"\n",
    "config[\"market_type\"] = \"futures\"\n",
    "config[\"user\"] = \"bitget_01\"\n",
    "try:\n",
    "    await bot.session.close()\n",
    "except:\n",
    "    pass\n",
    "if config[\"market_type\"] == \"spot\":\n",
    "    bot = await create_binance_bot_spot(config)\n",
    "else:\n",
    "    bot = await create_binance_bot(config)"
   ]
  },
  {
   "cell_type": "code",
   "execution_count": 7,
   "metadata": {
    "ExecuteTime": {
     "end_time": "2023-10-19T00:21:25.526904Z",
     "start_time": "2023-10-19T00:21:13.619242600Z"
    }
   },
   "outputs": [
    {
     "name": "stdout",
     "output_type": "stream",
     "text": [
      "['BTCUSDT', 'ETHUSDT', 'BCHUSDT', 'XRPUSDT', 'EOSUSDT', 'LTCUSDT', 'TRXUSDT'] 213\n",
      "['ETCUSDT', 'LINKUSDT', 'XLMUSDT', 'ADAUSDT', 'XMRUSDT', 'DASHUSDT', 'ZECUSDT'] 206\n",
      "['XTZUSDT', 'BNBUSDT', 'ATOMUSDT', 'ONTUSDT', 'IOTAUSDT', 'BATUSDT', 'VETUSDT'] 199\n",
      "['NEOUSDT', 'QTUMUSDT', 'IOSTUSDT', 'THETAUSDT', 'ALGOUSDT', 'ZILUSDT', 'KNCUSDT'] 192\n",
      "['ZRXUSDT', 'COMPUSDT', 'OMGUSDT', 'DOGEUSDT', 'SXPUSDT', 'KAVAUSDT', 'BANDUSDT'] 185\n",
      "['RLCUSDT', 'WAVESUSDT', 'MKRUSDT', 'SNXUSDT', 'DOTUSDT', 'DEFIUSDT', 'YFIUSDT'] 178\n",
      "['BALUSDT', 'CRVUSDT', 'TRBUSDT', 'RUNEUSDT', 'SUSHIUSDT', 'SRMUSDT', 'EGLDUSDT'] 171\n",
      "['SOLUSDT', 'ICXUSDT', 'STORJUSDT', 'BLZUSDT', 'UNIUSDT', 'AVAXUSDT', 'FTMUSDT'] 164\n",
      "['HNTUSDT', 'ENJUSDT', 'FLMUSDT', 'TOMOUSDT', 'RENUSDT', 'KSMUSDT', 'NEARUSDT'] 157\n",
      "['AAVEUSDT', 'FILUSDT', 'RSRUSDT', 'LRCUSDT', 'MATICUSDT', 'OCEANUSDT', 'CVCUSDT'] 150\n",
      "['BELUSDT', 'CTKUSDT', 'AXSUSDT', 'ALPHAUSDT', 'ZENUSDT', 'SKLUSDT', 'GRTUSDT'] 143\n",
      "['1INCHUSDT', 'CHZUSDT', 'SANDUSDT', 'ANKRUSDT', 'BTSUSDT', 'LITUSDT', 'UNFIUSDT'] 136\n",
      "['REEFUSDT', 'RVNUSDT', 'SFPUSDT', 'XEMUSDT', 'BTCSTUSDT', 'COTIUSDT', 'CHRUSDT'] 129\n",
      "['MANAUSDT', 'ALICEUSDT', 'HBARUSDT', 'ONEUSDT', 'LINAUSDT', 'STMXUSDT', 'DENTUSDT'] 122\n",
      "['CELRUSDT', 'HOTUSDT', 'MTLUSDT', 'OGNUSDT', 'NKNUSDT', 'SCUSDT', 'DGBUSDT'] 115\n",
      "['1000SHIBUSDT', 'BAKEUSDT', 'GTCUSDT', 'BTCDOMUSDT', 'IOTXUSDT', 'AUDIOUSDT', 'RAYUSDT'] 108\n",
      "['C98USDT', 'MASKUSDT', 'ATAUSDT', 'DYDXUSDT', '1000XECUSDT', 'GALAUSDT', 'CELOUSDT'] 101\n",
      "['ARUSDT', 'KLAYUSDT', 'ARPAUSDT', 'CTSIUSDT', 'LPTUSDT', 'ENSUSDT', 'PEOPLEUSDT'] 94\n",
      "['ANTUSDT', 'ROSEUSDT', 'DUSKUSDT', 'FLOWUSDT', 'IMXUSDT', 'API3USDT', 'GMTUSDT'] 87\n",
      "['APEUSDT', 'WOOUSDT', 'FTTUSDT', 'JASMYUSDT', 'DARUSDT', 'GALUSDT', 'OPUSDT'] 80\n",
      "['INJUSDT', 'STGUSDT', 'FOOTBALLUSDT', 'SPELLUSDT', '1000LUNCUSDT', 'LUNA2USDT', 'LDOUSDT'] 73\n",
      "['CVXUSDT', 'ICPUSDT', 'APTUSDT', 'QNTUSDT', 'BLUEBIRDUSDT', 'FETUSDT', 'FXSUSDT'] 66\n",
      "['HOOKUSDT', 'MAGICUSDT', 'TUSDT', 'RNDRUSDT', 'HIGHUSDT', 'MINAUSDT', 'ASTRUSDT'] 59\n",
      "['AGIXUSDT', 'PHBUSDT', 'GMXUSDT', 'CFXUSDT', 'STXUSDT', 'COCOSUSDT', 'BNXUSDT'] 52\n",
      "['ACHUSDT', 'SSVUSDT', 'CKBUSDT', 'PERPUSDT', 'TRUUSDT', 'LQTYUSDT', 'USDCUSDT'] 45\n",
      "['IDUSDT', 'ARBUSDT', 'JOEUSDT', 'TLMUSDT', 'AMBUSDT', 'LEVERUSDT', 'RDNTUSDT'] 38\n",
      "['HFTUSDT', 'XVSUSDT', 'BLURUSDT', 'EDUUSDT', 'IDEXUSDT', 'SUIUSDT', '1000PEPEUSDT'] 31\n",
      "['1000FLOKIUSDT', 'UMAUSDT', 'RADUSDT', 'KEYUSDT', 'COMBOUSDT', 'NMRUSDT', 'MAVUSDT'] 24\n",
      "['MDTUSDT', 'XVGUSDT', 'WLDUSDT', 'PENDLEUSDT', 'ARKMUSDT', 'AGLDUSDT', 'YGGUSDT'] 17\n",
      "['DODOXUSDT', 'BNTUSDT', 'OXTUSDT', 'SEIUSDT', 'CYBERUSDT', 'HIFIUSDT', 'ARKUSDT'] 10\n",
      "['FRONTUSDT', 'GLMRUSDT', 'BICOUSDT', 'STRAXUSDT', 'LOOMUSDT', 'BIGTIMEUSDT', 'BONDUSDT'] 3\n",
      "['ORBSUSDT', 'STPTUSDT', 'WAXPUSDT'] 0\n"
     ]
    }
   ],
   "source": [
    "info = await bot.public_get(bot.endpoints[\"exchange_info\"])\n",
    "csvs = {}\n",
    "syms = [x[\"symbol\"] for x in info[\"symbols\"] if x[\"symbol\"].endswith(\"USDT\")]\n",
    "n = 7\n",
    "interval = \"5m\"\n",
    "while True:\n",
    "    if not syms:\n",
    "        break\n",
    "    subset = syms[:n]\n",
    "    syms = syms[n:]\n",
    "    res = await asyncio.gather(*[bot.fetch_ohlcvs(symbol=s, interval=interval) for s in subset])\n",
    "    for s, r in zip(subset, res):\n",
    "        csvs[s] = pd.DataFrame(r)\n",
    "    print(subset, len(syms))"
   ]
  },
  {
   "cell_type": "code",
   "execution_count": null,
   "metadata": {},
   "outputs": [],
   "source": [
    "def correlation(x, y):\n",
    "    x_mean = x.mean()\n",
    "    y_mean = y.mean()\n",
    "    a = x - x_mean\n",
    "    b = y - y_mean\n",
    "    return ((a * b).sum()) / (((a ** 2).sum() * (b ** 2).sum()) ** 0.5)"
   ]
  },
  {
   "cell_type": "code",
   "execution_count": null,
   "metadata": {},
   "outputs": [],
   "source": [
    "n_symbols = 30\n",
    "vols = [(csvs[s].volume * csvs[s].close).sum() for s in csvs]\n",
    "minvol = sorted(vols)[-n_symbols]\n",
    "ss = [s for s in csvs if (csvs[s].volume * csvs[s].close).sum() >= minvol]\n",
    "corrs = []\n",
    "corrs_dict = {}\n",
    "done = set()\n",
    "for s0 in sorted(ss):\n",
    "    for s1 in sorted(ss):\n",
    "        if s0 == s1:\n",
    "            continue\n",
    "        key = tuple(sorted([s0, s1]))\n",
    "        if key in done:\n",
    "            continue\n",
    "        done.add(key)\n",
    "        x = csvs[s0].close\n",
    "        y = csvs[s1].close\n",
    "        corr = correlation(x, y)\n",
    "        print(f\"\\r{s0} {s1} {corr:.4f}      \", end=\" \")\n",
    "        corrs.append((corr,) + key)\n",
    "\n",
    "corrs_dict = {}\n",
    "corrs_dict_abs = {}\n",
    "for e in corrs:\n",
    "    if e[1] not in corrs_dict:\n",
    "        corrs_dict[e[1]] = {e[2]: e[0]}\n",
    "        corrs_dict_abs[e[1]] = {e[2]: abs(e[0])}\n",
    "\n",
    "    else:\n",
    "        corrs_dict[e[1]][e[2]] = e[0]\n",
    "        corrs_dict_abs[e[1]][e[2]] = abs(e[0])\n",
    "\n",
    "    if e[2] not in corrs_dict:\n",
    "        corrs_dict[e[2]] = {e[1]: e[0]}\n",
    "        corrs_dict_abs[e[2]] = {e[1]: abs(e[0])}\n",
    "\n",
    "    else:\n",
    "        corrs_dict[e[2]][e[1]] = e[0]\n",
    "        corrs_dict_abs[e[2]][e[1]] = abs(e[0])"
   ]
  },
  {
   "cell_type": "code",
   "execution_count": null,
   "metadata": {},
   "outputs": [],
   "source": [
    "# sum correlation of each symbol to every other symbol\n",
    "corr_sorted = sorted([(sum(corrs_dict[s].values()), s) for s in corrs_dict])\n",
    "corr_sorted"
   ]
  },
  {
   "cell_type": "code",
   "execution_count": null,
   "metadata": {},
   "outputs": [],
   "source": [
    "# mean of all symbol\n",
    "mean_prices = pd.concat([e.close / e.close.iloc[0] for e in csvs.values()], axis=1).mean(axis=1)\n",
    "\n",
    "# compare individual symbol to mean\n",
    "symbol = \"SXPUSDT\"\n",
    "# symbol = corr_sorted[0][1]  # least correlated symbol\n",
    "mean_prices.rename(\"mean_prices\").plot()\n",
    "(csvs[symbol].close / csvs[symbol].close.iloc[0]).rename(symbol).plot()\n",
    "plt.legend()"
   ]
  },
  {
   "cell_type": "code",
   "execution_count": null,
   "metadata": {},
   "outputs": [],
   "source": [
    "# compare two symbols\n",
    "symbol0 = \"BNBUSDT\"\n",
    "symbol1 = \"LINKUSDT\"\n",
    "(csvs[symbol0].close / csvs[symbol0].close.iloc[0]).rename(symbol0).plot()\n",
    "(csvs[symbol1].close / csvs[symbol1].close.iloc[0]).rename(symbol1).plot()\n",
    "plt.legend()"
   ]
  },
  {
   "cell_type": "code",
   "execution_count": null,
   "metadata": {},
   "outputs": [],
   "source": []
  }
 ],
 "metadata": {
  "kernelspec": {
   "display_name": "Python 3 (ipykernel)",
   "language": "python",
   "name": "python3"
  },
  "language_info": {
   "codemirror_mode": {
    "name": "ipython",
    "version": 3
   },
   "file_extension": ".py",
   "mimetype": "text/x-python",
   "name": "python",
   "nbconvert_exporter": "python",
   "pygments_lexer": "ipython3",
   "version": "3.10.4"
  }
 },
 "nbformat": 4,
 "nbformat_minor": 4
}
