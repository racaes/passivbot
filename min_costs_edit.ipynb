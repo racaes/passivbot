{
 "cells": [
  {
   "cell_type": "code",
   "execution_count": 1,
   "id": "2c755c1d-2774-4ecd-80fd-b9200b147bf1",
   "metadata": {
    "ExecuteTime": {
     "end_time": "2023-12-04T12:32:30.321958600Z",
     "start_time": "2023-12-04T12:32:29.809869100Z"
    }
   },
   "outputs": [],
   "source": [
    "import ccxt\n",
    "import json\n",
    "import pprint\n",
    "import numpy as np\n",
    "import pandas as pd"
   ]
  },
  {
   "cell_type": "code",
   "execution_count": 7,
   "id": "92399db7-bc05-4a75-ac16-0d659632fcef",
   "metadata": {
    "ExecuteTime": {
     "end_time": "2023-12-04T12:33:09.087774100Z",
     "start_time": "2023-12-04T12:33:09.072746300Z"
    }
   },
   "outputs": [],
   "source": [
    "# choices: okx, binanceusdm, bitget, bybit, kucoinfutures, bingx\n",
    "# exchange = \"kucoinfutures\"\n",
    "exchange = \"bitget\"\n",
    "cc = getattr(ccxt, exchange)()"
   ]
  },
  {
   "cell_type": "code",
   "execution_count": 8,
   "id": "9319c779-48df-4785-9fea-b000e13fb571",
   "metadata": {
    "ExecuteTime": {
     "end_time": "2023-12-04T12:33:12.089072700Z",
     "start_time": "2023-12-04T12:33:10.883591200Z"
    }
   },
   "outputs": [],
   "source": [
    "info = cc.fetch_markets()"
   ]
  },
  {
   "cell_type": "code",
   "execution_count": 9,
   "id": "0d5f1156-dc96-4d2e-9b96-c210c6313e34",
   "metadata": {
    "ExecuteTime": {
     "end_time": "2023-12-04T12:33:16.398357Z",
     "start_time": "2023-12-04T12:33:14.462940900Z"
    }
   },
   "outputs": [],
   "source": [
    "if 'kucoin' in exchange:\n",
    "    tickers = {elm['symbol'].replace(':USDT', ''): {**elm, **{'info': {'last': elm['info']['lastTradePrice']}}} for elm in info}\n",
    "else:\n",
    "    tickers = cc.fetch_tickers()"
   ]
  },
  {
   "cell_type": "code",
   "execution_count": 10,
   "id": "87a49ba5-3956-4ac5-886a-d4a9ca8bac03",
   "metadata": {
    "ExecuteTime": {
     "end_time": "2023-12-04T12:33:17.455216300Z",
     "start_time": "2023-12-04T12:33:17.438675400Z"
    }
   },
   "outputs": [],
   "source": [
    "min_costs = {}\n",
    "for x in info:\n",
    "    symbol = x[\"symbol\"]\n",
    "    if symbol.endswith(\"USDT\"):\n",
    "        if x[\"type\"] != \"spot\":\n",
    "            if exchange in [\"okx\", \"bitget\", \"kucoinfutures\"]:\n",
    "                ticker_symbol = symbol.replace(\":USDT\", \"\")\n",
    "            else:\n",
    "                ticker_symbol = symbol\n",
    "            if ticker_symbol in tickers:\n",
    "                if exchange == \"bitget\":\n",
    "                    min_cost = 5.0\n",
    "                    c_mult = 1.0\n",
    "                    min_qty = float(x[\"info\"][\"minTradeNum\"])\n",
    "                elif exchange == 'bingx':\n",
    "                    min_cost = 2.0\n",
    "                    c_mult = 1.0\n",
    "                    min_qty = float(x['info']['size'])\n",
    "                else:\n",
    "                    min_cost = (\n",
    "                        0.0 if x[\"limits\"][\"cost\"][\"min\"] is None else x[\"limits\"][\"cost\"][\"min\"]\n",
    "                    )\n",
    "                    c_mult = 1.0 if x[\"contractSize\"] is None else x[\"contractSize\"]\n",
    "                    min_qty = (\n",
    "                        0.0 if x[\"limits\"][\"amount\"][\"min\"] is None else x[\"limits\"][\"amount\"][\"min\"]\n",
    "                    )\n",
    "                if exchange == \"kucoinfutures\":\n",
    "                    last_price = float(tickers[ticker_symbol][\"info\"][\"last\"])\n",
    "                    min_qty = float(x[\"info\"][\"multiplier\"])\n",
    "                    c_mult = 1.0\n",
    "                else:\n",
    "                    last_price = tickers[ticker_symbol][\"last\"]\n",
    "                min_costs[ticker_symbol] = max(min_cost, min_qty * c_mult * last_price)"
   ]
  },
  {
   "cell_type": "code",
   "execution_count": 11,
   "id": "6beb0b0c-1c8a-4f47-a704-1606237367cc",
   "metadata": {
    "ExecuteTime": {
     "end_time": "2023-12-04T12:33:18.870577800Z",
     "start_time": "2023-12-04T12:33:18.840003200Z"
    }
   },
   "outputs": [
    {
     "data": {
      "text/plain": "[('SOL/USDT', 61.618),\n ('BTC/USDT', 41.60362000000001),\n ('ETH/USDT', 22.3964),\n ('ETC/USDT', 19.8306),\n ('LINK/USDT', 15.6758),\n ('AAVE/USDT', 9.9944),\n ('ATOM/USDT', 9.5742),\n ('LTC/USDT', 7.3386),\n ('UNI/USDT', 6.2419),\n ('DOT/USDT', 5.5949),\n ('EGLD/USDT', 5.04734),\n ('XRP/USDT', 5.0),\n ('EOS/USDT', 5.0),\n ('BCH/USDT', 5.0),\n ('ADA/USDT', 5.0),\n ('TRX/USDT', 5.0),\n ('DOGE/USDT', 5.0),\n ('MATIC/USDT', 5.0),\n ('BNB/USDT', 5.0),\n ('ICP/USDT', 5.0),\n ('FIL/USDT', 5.0),\n ('XLM/USDT', 5.0),\n ('XTZ/USDT', 5.0),\n ('SUSHI/USDT', 5.0),\n ('AXS/USDT', 5.0),\n ('AVAX/USDT', 5.0),\n ('SHIB/USDT', 5.0),\n ('MANA/USDT', 5.0),\n ('GALA/USDT', 5.0),\n ('SAND/USDT', 5.0),\n ('DYDX/USDT', 5.0),\n ('CRV/USDT', 5.0),\n ('NEAR/USDT', 5.0),\n ('KSM/USDT', 5.0),\n ('AR/USDT', 5.0),\n ('REN/USDT', 5.0),\n ('FTM/USDT', 5.0),\n ('PEOPLE/USDT', 5.0),\n ('LRC/USDT', 5.0),\n ('NEO/USDT', 5.0),\n ('ALICE/USDT', 5.0),\n ('WAVES/USDT', 5.0),\n ('ENJ/USDT', 5.0),\n ('GMT/USDT', 5.0),\n ('ZIL/USDT', 5.0),\n ('APE/USDT', 5.0),\n ('RUNE/USDT', 5.0),\n ('KNC/USDT', 5.0),\n ('APT/USDT', 5.0),\n ('CHZ/USDT', 5.0),\n ('ROSE/USDT', 5.0),\n ('ZRX/USDT', 5.0),\n ('KAVA/USDT', 5.0),\n ('ENS/USDT', 5.0),\n ('GAL/USDT', 5.0),\n ('AUDIO/USDT', 5.0),\n ('SXP/USDT', 5.0),\n ('C98/USDT', 5.0),\n ('OP/USDT', 5.0),\n ('RSR/USDT', 5.0),\n ('SNX/USDT', 5.0),\n ('STORJ/USDT', 5.0),\n ('1INCH/USDT', 5.0),\n ('COMP/USDT', 5.0),\n ('IMX/USDT', 5.0),\n ('FLOW/USDT', 5.0),\n ('REEF/USDT', 5.0),\n ('TRB/USDT', 5.0),\n ('QTUM/USDT', 5.0),\n ('MASK/USDT', 5.0),\n ('WOO/USDT', 5.0),\n ('GRT/USDT', 5.0),\n ('BAND/USDT', 5.0),\n ('STG/USDT', 5.0),\n ('LUNC/USDT', 5.0),\n ('ONE/USDT', 5.0),\n ('JASMY/USDT', 5.0),\n ('MKR/USDT', 5.0),\n ('BAT/USDT', 5.0),\n ('MAGIC/USDT', 5.0),\n ('ALPHA/USDT', 5.0),\n ('LDO/USDT', 5.0),\n ('OCEAN/USDT', 5.0),\n ('CELO/USDT', 5.0),\n ('BLUR/USDT', 5.0),\n ('MINA/USDT', 5.0),\n ('CORE/USDT', 5.0),\n ('CFX/USDT', 5.0),\n ('HIGH/USDT', 5.0),\n ('ASTR/USDT', 5.0),\n ('AGIX/USDT', 5.0),\n ('GMX/USDT', 5.0),\n ('LINA/USDT', 5.0),\n ('ANKR/USDT', 5.0),\n ('ACH/USDT', 5.0),\n ('FET/USDT', 5.0),\n ('FXS/USDT', 5.0),\n ('RNDR/USDT', 5.0),\n ('HOOK/USDT', 5.0),\n ('BNX/USDT', 5.0),\n ('SSV/USDT', 5.0),\n ('USDC/USDT', 5.0),\n ('LQTY/USDT', 5.0),\n ('STX/USDT', 5.0),\n ('TRU/USDT', 5.0),\n ('DUSK/USDT', 5.0),\n ('INJ/USDT', 5.0),\n ('BEL/USDT', 5.0),\n ('COTI/USDT', 5.0),\n ('ARB/USDT', 5.0),\n ('LOOKS/USDT', 5.0),\n ('KLAY/USDT', 5.0),\n ('FLM/USDT', 5.0),\n ('OMG/USDT', 5.0),\n ('RLC/USDT', 5.0),\n ('ID/USDT', 5.0),\n ('LIT/USDT', 5.0),\n ('JOE/USDT', 5.0),\n ('TLM/USDT', 5.0),\n ('HOT/USDT', 5.0),\n ('CHR/USDT', 5.0),\n ('RDNT/USDT', 5.0),\n ('HFT/USDT', 5.0),\n ('ONT/USDT', 5.0),\n ('UNFI/USDT', 5.0),\n ('NKN/USDT', 5.0),\n ('ARPA/USDT', 5.0),\n ('DAR/USDT', 5.0),\n ('SFP/USDT', 5.0),\n ('CTSI/USDT', 5.0),\n ('SKL/USDT', 5.0),\n ('CELR/USDT', 5.0),\n ('FLOKI/USDT', 5.0),\n ('SPELL/USDT', 5.0),\n ('SUI/USDT', 5.0),\n ('EDU/USDT', 5.0),\n ('PEPE/USDT', 5.0),\n ('IOTX/USDT', 5.0),\n ('STMX/USDT', 5.0),\n ('UMA/USDT', 5.0),\n ('BSV/USDT', 5.0),\n ('GTC/USDT', 5.0),\n ('DENT/USDT', 5.0),\n ('PHB/USDT', 5.0),\n ('ORDI/USDT', 5.0),\n ('KEY/USDT', 5.0),\n ('IDEX/USDT', 5.0),\n ('SLP/USDT', 5.0),\n ('COMBO/USDT', 5.0),\n ('LEVER/USDT', 5.0),\n ('ZZZ/USDT', 5.0),\n ('RAD/USDT', 5.0),\n ('ANT/USDT', 5.0),\n ('QNT/USDT', 5.0),\n ('MAV/USDT', 5.0),\n ('MDT/USDT', 5.0),\n ('AGLD/USDT', 5.0),\n ('WLD/USDT', 5.0),\n ('PENDLE/USDT', 5.0),\n ('ARKM/USDT', 5.0),\n ('CVX/USDT', 5.0),\n ('YGG/USDT', 5.0),\n ('OGN/USDT', 5.0),\n ('LPT/USDT', 5.0),\n ('BNT/USDT', 5.0),\n ('SEI/USDT', 5.0),\n ('CYBER/USDT', 5.0),\n ('BAKE/USDT', 5.0),\n ('GLMR/USDT', 5.0),\n ('LOOM/USDT', 5.0),\n ('BIGTIME/USDT', 5.0),\n ('ORBS/USDT', 5.0),\n ('WAXP/USDT', 5.0),\n ('POLYX/USDT', 5.0),\n ('TIA/USDT', 5.0),\n ('TWT/USDT', 5.0),\n ('PYTH/USDT', 5.0)]"
     },
     "execution_count": 11,
     "metadata": {},
     "output_type": "execute_result"
    }
   ],
   "source": [
    "sorted(min_costs.items(), key=lambda x: x[1], reverse=True)"
   ]
  },
  {
   "cell_type": "code",
   "execution_count": null,
   "id": "e08c607d-cdfd-4080-9d6c-7999c89d27f9",
   "metadata": {},
   "outputs": [],
   "source": []
  }
 ],
 "metadata": {
  "kernelspec": {
   "display_name": "Python 3 (ipykernel)",
   "language": "python",
   "name": "python3"
  },
  "language_info": {
   "codemirror_mode": {
    "name": "ipython",
    "version": 3
   },
   "file_extension": ".py",
   "mimetype": "text/x-python",
   "name": "python",
   "nbconvert_exporter": "python",
   "pygments_lexer": "ipython3",
   "version": "3.9.16"
  }
 },
 "nbformat": 4,
 "nbformat_minor": 5
}
